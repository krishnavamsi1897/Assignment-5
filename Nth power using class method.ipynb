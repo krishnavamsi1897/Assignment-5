{
 "cells": [
  {
   "cell_type": "code",
   "execution_count": 16,
   "id": "9c6bbcc1",
   "metadata": {},
   "outputs": [],
   "source": [
    "class power:\n",
    "    def pow(self,x,n):\n",
    "        if x==0 or x==1 or n==1:\n",
    "            return x\n",
    "        if x==-1:\n",
    "            if n%2 == 0:\n",
    "                return 1\n",
    "            else:\n",
    "                return -1\n",
    "        if n==0:\n",
    "            return 1\n",
    "        if n<0:\n",
    "            return 1/self.pow(x,-n)\n",
    "        answer = self.pow(x,n//2)\n",
    "        if n%2 == 0:\n",
    "             return answer*answer\n",
    "        return answer*answer*x"
   ]
  },
  {
   "cell_type": "code",
   "execution_count": 17,
   "id": "83afde64",
   "metadata": {},
   "outputs": [],
   "source": [
    "obj = power() "
   ]
  },
  {
   "cell_type": "code",
   "execution_count": 18,
   "id": "ebc1635d",
   "metadata": {},
   "outputs": [
    {
     "data": {
      "text/plain": [
       "100"
      ]
     },
     "execution_count": 18,
     "metadata": {},
     "output_type": "execute_result"
    }
   ],
   "source": [
    "obj.pow(10,2)"
   ]
  },
  {
   "cell_type": "code",
   "execution_count": 19,
   "id": "75caa720",
   "metadata": {},
   "outputs": [
    {
     "data": {
      "text/plain": [
       "0.1"
      ]
     },
     "execution_count": 19,
     "metadata": {},
     "output_type": "execute_result"
    }
   ],
   "source": [
    "obj.pow(10,-1)"
   ]
  },
  {
   "cell_type": "code",
   "execution_count": 20,
   "id": "73013467",
   "metadata": {},
   "outputs": [
    {
     "data": {
      "text/plain": [
       "-1"
      ]
     },
     "execution_count": 20,
     "metadata": {},
     "output_type": "execute_result"
    }
   ],
   "source": [
    "obj.pow(-1,15)"
   ]
  },
  {
   "cell_type": "code",
   "execution_count": 21,
   "id": "b0b05458",
   "metadata": {},
   "outputs": [
    {
     "data": {
      "text/plain": [
       "1000"
      ]
     },
     "execution_count": 21,
     "metadata": {},
     "output_type": "execute_result"
    }
   ],
   "source": [
    "obj.pow(10,3)"
   ]
  },
  {
   "cell_type": "code",
   "execution_count": 22,
   "id": "74750d8b",
   "metadata": {},
   "outputs": [
    {
     "data": {
      "text/plain": [
       "1"
      ]
     },
     "execution_count": 22,
     "metadata": {},
     "output_type": "execute_result"
    }
   ],
   "source": [
    "obj.pow(-1,16)"
   ]
  },
  {
   "cell_type": "code",
   "execution_count": 23,
   "id": "71f026d5",
   "metadata": {},
   "outputs": [
    {
     "data": {
      "text/plain": [
       "0"
      ]
     },
     "execution_count": 23,
     "metadata": {},
     "output_type": "execute_result"
    }
   ],
   "source": [
    "obj.pow(0,3)"
   ]
  },
  {
   "cell_type": "code",
   "execution_count": null,
   "id": "1e656c37",
   "metadata": {},
   "outputs": [],
   "source": []
  }
 ],
 "metadata": {
  "kernelspec": {
   "display_name": "Python 3 (ipykernel)",
   "language": "python",
   "name": "python3"
  },
  "language_info": {
   "codemirror_mode": {
    "name": "ipython",
    "version": 3
   },
   "file_extension": ".py",
   "mimetype": "text/x-python",
   "name": "python",
   "nbconvert_exporter": "python",
   "pygments_lexer": "ipython3",
   "version": "3.9.7"
  }
 },
 "nbformat": 4,
 "nbformat_minor": 5
}
